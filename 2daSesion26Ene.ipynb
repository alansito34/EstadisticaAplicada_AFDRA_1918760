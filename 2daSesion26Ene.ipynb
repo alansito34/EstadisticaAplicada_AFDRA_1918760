{
 "cells": [
  {
   "cell_type": "markdown",
   "id": "03d4d4ec-b1a2-4a92-b4b9-4cdbf9f51b85",
   "metadata": {},
   "source": [
    "# Estadistica Aplicada\n",
    "## 2da Sion\n",
    "**26 deEnero**"
   ]
  },
  {
   "cell_type": "code",
   "execution_count": 1,
   "id": "813fa8d0-4912-44bf-9a84-deff3820f9fc",
   "metadata": {},
   "outputs": [
    {
     "name": "stdout",
     "output_type": "stream",
     "text": [
      "Requirement already satisfied: yfinance in c:\\users\\lenovo\\anaconda3\\lib\\site-packages (0.1.74)\n",
      "Requirement already satisfied: numpy>=1.15 in c:\\users\\lenovo\\anaconda3\\lib\\site-packages (from yfinance) (1.21.5)\n",
      "Requirement already satisfied: requests>=2.26 in c:\\users\\lenovo\\anaconda3\\lib\\site-packages (from yfinance) (2.27.1)\n",
      "Requirement already satisfied: lxml>=4.5.1 in c:\\users\\lenovo\\anaconda3\\lib\\site-packages (from yfinance) (4.8.0)\n",
      "Requirement already satisfied: multitasking>=0.0.7 in c:\\users\\lenovo\\anaconda3\\lib\\site-packages (from yfinance) (0.0.11)\n",
      "Requirement already satisfied: pandas>=0.24.0 in c:\\users\\lenovo\\anaconda3\\lib\\site-packages (from yfinance) (1.4.2)\n",
      "Requirement already satisfied: python-dateutil>=2.8.1 in c:\\users\\lenovo\\anaconda3\\lib\\site-packages (from pandas>=0.24.0->yfinance) (2.8.2)\n",
      "Requirement already satisfied: pytz>=2020.1 in c:\\users\\lenovo\\anaconda3\\lib\\site-packages (from pandas>=0.24.0->yfinance) (2021.3)\n",
      "Requirement already satisfied: six>=1.5 in c:\\users\\lenovo\\anaconda3\\lib\\site-packages (from python-dateutil>=2.8.1->pandas>=0.24.0->yfinance) (1.16.0)\n",
      "Requirement already satisfied: charset-normalizer~=2.0.0 in c:\\users\\lenovo\\anaconda3\\lib\\site-packages (from requests>=2.26->yfinance) (2.0.4)\n",
      "Requirement already satisfied: idna<4,>=2.5 in c:\\users\\lenovo\\anaconda3\\lib\\site-packages (from requests>=2.26->yfinance) (3.3)\n",
      "Requirement already satisfied: urllib3<1.27,>=1.21.1 in c:\\users\\lenovo\\anaconda3\\lib\\site-packages (from requests>=2.26->yfinance) (1.26.9)\n",
      "Requirement already satisfied: certifi>=2017.4.17 in c:\\users\\lenovo\\anaconda3\\lib\\site-packages (from requests>=2.26->yfinance) (2021.10.8)\n",
      "Note: you may need to restart the kernel to use updated packages.\n"
     ]
    }
   ],
   "source": [
    "pip install yfinance"
   ]
  },
  {
   "cell_type": "code",
   "execution_count": 2,
   "id": "a5970414-45c5-44d7-8ca7-81aa9b530d0c",
   "metadata": {},
   "outputs": [],
   "source": [
    "import yfinance as yf"
   ]
  },
  {
   "cell_type": "code",
   "execution_count": 4,
   "id": "efc45a79-6fcf-4258-ac83-94233079fa03",
   "metadata": {},
   "outputs": [],
   "source": [
    "import numpy as np"
   ]
  },
  {
   "cell_type": "code",
   "execution_count": 51,
   "id": "47195a1a-2767-4785-aa41-819831a50458",
   "metadata": {},
   "outputs": [],
   "source": [
    "edades = [12, 18, 25, 32, 40]"
   ]
  },
  {
   "cell_type": "code",
   "execution_count": 52,
   "id": "f44508ce-0ad4-4c6c-b94b-0735ac55f719",
   "metadata": {},
   "outputs": [
    {
     "ename": "TypeError",
     "evalue": "'list' object is not callable",
     "output_type": "error",
     "traceback": [
      "\u001b[1;31m---------------------------------------------------------------------------\u001b[0m",
      "\u001b[1;31mTypeError\u001b[0m                                 Traceback (most recent call last)",
      "Input \u001b[1;32mIn [52]\u001b[0m, in \u001b[0;36m<cell line: 1>\u001b[1;34m()\u001b[0m\n\u001b[1;32m----> 1\u001b[0m \u001b[38;5;28;43mtype\u001b[39;49m\u001b[43m(\u001b[49m\u001b[43medades\u001b[49m\u001b[43m)\u001b[49m\n",
      "\u001b[1;31mTypeError\u001b[0m: 'list' object is not callable"
     ]
    }
   ],
   "source": [
    "type(edades)"
   ]
  },
  {
   "cell_type": "code",
   "execution_count": 53,
   "id": "1299a9b4-5638-4ba6-9ac2-8e1aa6c4338b",
   "metadata": {},
   "outputs": [],
   "source": [
    "edades=np.array(edades)"
   ]
  },
  {
   "cell_type": "code",
   "execution_count": 66,
   "id": "130b338c-1068-43ca-8609-2491f7694947",
   "metadata": {},
   "outputs": [
    {
     "ename": "TypeError",
     "evalue": "'list' object is not callable",
     "output_type": "error",
     "traceback": [
      "\u001b[1;31m---------------------------------------------------------------------------\u001b[0m",
      "\u001b[1;31mTypeError\u001b[0m                                 Traceback (most recent call last)",
      "Input \u001b[1;32mIn [66]\u001b[0m, in \u001b[0;36m<cell line: 1>\u001b[1;34m()\u001b[0m\n\u001b[1;32m----> 1\u001b[0m \u001b[38;5;28;43mtype\u001b[39;49m\u001b[43m(\u001b[49m\u001b[43medades\u001b[49m\u001b[43m)\u001b[49m\n",
      "\u001b[1;31mTypeError\u001b[0m: 'list' object is not callable"
     ]
    }
   ],
   "source": [
    "type(edades)"
   ]
  },
  {
   "cell_type": "code",
   "execution_count": 55,
   "id": "8c16b69f-9722-4844-ac7a-d4eebed717bb",
   "metadata": {},
   "outputs": [
    {
     "data": {
      "text/plain": [
       "25.4"
      ]
     },
     "execution_count": 55,
     "metadata": {},
     "output_type": "execute_result"
    }
   ],
   "source": [
    "np.mean(edades)"
   ]
  },
  {
   "cell_type": "code",
   "execution_count": 56,
   "id": "56d2fe0d-adbb-4b48-8a3e-be17dd72528d",
   "metadata": {},
   "outputs": [
    {
     "data": {
      "text/plain": [
       "98.24000000000001"
      ]
     },
     "execution_count": 56,
     "metadata": {},
     "output_type": "execute_result"
    }
   ],
   "source": [
    "np.var(edades)"
   ]
  },
  {
   "cell_type": "code",
   "execution_count": 57,
   "id": "21e39041-cddd-40ba-adb6-684fb49f3b40",
   "metadata": {},
   "outputs": [
    {
     "data": {
      "text/plain": [
       "122.80000000000001"
      ]
     },
     "execution_count": 57,
     "metadata": {},
     "output_type": "execute_result"
    }
   ],
   "source": [
    "np.var(edades,ddof=1)"
   ]
  },
  {
   "cell_type": "code",
   "execution_count": 58,
   "id": "498dcdb0-beac-43be-bbc8-a6a4309cc6f1",
   "metadata": {},
   "outputs": [
    {
     "data": {
      "text/plain": [
       "9.911609354691095"
      ]
     },
     "execution_count": 58,
     "metadata": {},
     "output_type": "execute_result"
    }
   ],
   "source": [
    "np.std(edades)"
   ]
  },
  {
   "cell_type": "code",
   "execution_count": 59,
   "id": "6bf4093c-95f2-4fb5-991b-639f3d983c18",
   "metadata": {},
   "outputs": [
    {
     "data": {
      "text/plain": [
       "11.081516141756055"
      ]
     },
     "execution_count": 59,
     "metadata": {},
     "output_type": "execute_result"
    }
   ],
   "source": [
    "np.std(edades,ddof=1)"
   ]
  },
  {
   "cell_type": "code",
   "execution_count": 61,
   "id": "68e6d7fd-0689-4d5a-8eb7-e0a628fc57b6",
   "metadata": {},
   "outputs": [
    {
     "data": {
      "text/plain": [
       "array([0, 1, 2, 3, 4, 5, 6, 7, 8])"
      ]
     },
     "execution_count": 61,
     "metadata": {},
     "output_type": "execute_result"
    }
   ],
   "source": [
    "np.arange(9)"
   ]
  },
  {
   "cell_type": "code",
   "execution_count": 63,
   "id": "15e8cf23-30be-4b3d-8e65-d167f6c1cbf8",
   "metadata": {},
   "outputs": [
    {
     "data": {
      "text/plain": [
       "array([1, 2, 3, 4, 5, 6, 7, 8])"
      ]
     },
     "execution_count": 63,
     "metadata": {},
     "output_type": "execute_result"
    }
   ],
   "source": [
    "np.arange(1,9)"
   ]
  },
  {
   "cell_type": "code",
   "execution_count": 68,
   "id": "cdf17057-10c6-4a59-9877-882ab3e9d50a",
   "metadata": {},
   "outputs": [
    {
     "data": {
      "text/plain": [
       "array([ 1, 11, 21, 31, 41, 51, 61, 71, 81, 91])"
      ]
     },
     "execution_count": 68,
     "metadata": {},
     "output_type": "execute_result"
    }
   ],
   "source": [
    "np.arange(1,100,10)"
   ]
  },
  {
   "cell_type": "code",
   "execution_count": 69,
   "id": "bee14440-421e-4a2f-97d6-ffb33c416cf3",
   "metadata": {},
   "outputs": [
    {
     "data": {
      "text/plain": [
       "array([0., 0., 0., 0., 0., 0., 0., 0., 0., 0.])"
      ]
     },
     "execution_count": 69,
     "metadata": {},
     "output_type": "execute_result"
    }
   ],
   "source": [
    "np.zeros(10)"
   ]
  },
  {
   "cell_type": "code",
   "execution_count": 70,
   "id": "9a3c128e-1d5f-43ec-aa88-e0ee6a69562a",
   "metadata": {},
   "outputs": [
    {
     "data": {
      "text/plain": [
       "array([1., 1., 1.])"
      ]
     },
     "execution_count": 70,
     "metadata": {},
     "output_type": "execute_result"
    }
   ],
   "source": [
    "np.ones(3)"
   ]
  },
  {
   "cell_type": "code",
   "execution_count": 71,
   "id": "f2a1c1a9-6862-4102-9b91-47789e973364",
   "metadata": {},
   "outputs": [
    {
     "data": {
      "text/plain": [
       "array([9, 9, 9, 9, 9, 9])"
      ]
     },
     "execution_count": 71,
     "metadata": {},
     "output_type": "execute_result"
    }
   ],
   "source": [
    "np.full(6,9)"
   ]
  },
  {
   "cell_type": "code",
   "execution_count": 95,
   "id": "cfec1117-17ad-41e9-b6f2-dbe23bcce87e",
   "metadata": {},
   "outputs": [
    {
     "data": {
      "text/plain": [
       "array([ 8, 21, 12,  5, 23,  0,  7, 11, 21, 22])"
      ]
     },
     "execution_count": 95,
     "metadata": {},
     "output_type": "execute_result"
    }
   ],
   "source": [
    "np.random.seed(15)\n",
    "np.random.randint(0,25,10)"
   ]
  },
  {
   "cell_type": "code",
   "execution_count": 97,
   "id": "5db2610e-eaef-4de3-a3e6-c130b1978c08",
   "metadata": {},
   "outputs": [],
   "source": [
    "np.random.seed(15)\n",
    "aleatorios=np.random.randint(0,25,10)"
   ]
  },
  {
   "cell_type": "code",
   "execution_count": 98,
   "id": "2746cbf0-4962-4178-ae00-bc9d79aff3fc",
   "metadata": {},
   "outputs": [
    {
     "data": {
      "text/plain": [
       "array([ 8, 21, 12,  5, 23,  0,  7, 11, 21, 22])"
      ]
     },
     "execution_count": 98,
     "metadata": {},
     "output_type": "execute_result"
    }
   ],
   "source": [
    "aleatorios"
   ]
  },
  {
   "cell_type": "code",
   "execution_count": 100,
   "id": "ef9ed0ac-d9d5-4488-badf-31f36149b77c",
   "metadata": {},
   "outputs": [],
   "source": [
    "aleatorios= np.sort(aleatorios)"
   ]
  },
  {
   "cell_type": "code",
   "execution_count": 102,
   "id": "926e770d-a78f-47cc-98d8-17d340f401e5",
   "metadata": {},
   "outputs": [
    {
     "data": {
      "text/plain": [
       "8"
      ]
     },
     "execution_count": 102,
     "metadata": {},
     "output_type": "execute_result"
    }
   ],
   "source": [
    "aleatorios[3]"
   ]
  },
  {
   "cell_type": "code",
   "execution_count": 105,
   "id": "253c508c-65d5-45af-8043-cbeb18889235",
   "metadata": {},
   "outputs": [
    {
     "data": {
      "text/plain": [
       "array([ 8, 12])"
      ]
     },
     "execution_count": 105,
     "metadata": {},
     "output_type": "execute_result"
    }
   ],
   "source": [
    "aleatorios[[3,5]]"
   ]
  },
  {
   "cell_type": "code",
   "execution_count": 106,
   "id": "6e4dba48-1567-4ed9-9b21-800b1b47f50c",
   "metadata": {},
   "outputs": [
    {
     "data": {
      "text/plain": [
       "array([False, False,  True,  True,  True,  True,  True,  True,  True,\n",
       "        True])"
      ]
     },
     "execution_count": 106,
     "metadata": {},
     "output_type": "execute_result"
    }
   ],
   "source": [
    "aleatorios>5"
   ]
  },
  {
   "cell_type": "code",
   "execution_count": 107,
   "id": "e1ae0a85-acd5-414c-8307-3110ef73fcb3",
   "metadata": {},
   "outputs": [
    {
     "data": {
      "text/plain": [
       "array([ 7,  8, 11, 12, 21, 21, 22, 23])"
      ]
     },
     "execution_count": 107,
     "metadata": {},
     "output_type": "execute_result"
    }
   ],
   "source": [
    "aleatorios[aleatorios>5]"
   ]
  },
  {
   "cell_type": "code",
   "execution_count": 115,
   "id": "f91cecc7-a92f-4b32-9bbf-6b9380a785fa",
   "metadata": {},
   "outputs": [],
   "source": [
    "numeros = [1.23, 2.45578, 5.6888785]\n",
    "numeros=np.array(numeros)"
   ]
  },
  {
   "cell_type": "code",
   "execution_count": 116,
   "id": "54c021fa-3543-41a6-b38c-9db9045ae68b",
   "metadata": {},
   "outputs": [
    {
     "data": {
      "text/plain": [
       "3.1248861666666667"
      ]
     },
     "execution_count": 116,
     "metadata": {},
     "output_type": "execute_result"
    }
   ],
   "source": [
    "np.mean(numeros)"
   ]
  },
  {
   "cell_type": "code",
   "execution_count": 117,
   "id": "670f22f6-70b4-4604-981a-289e093b993c",
   "metadata": {},
   "outputs": [
    {
     "data": {
      "text/plain": [
       "3.1248861666666667"
      ]
     },
     "execution_count": 117,
     "metadata": {},
     "output_type": "execute_result"
    }
   ],
   "source": [
    "numeros.mean()"
   ]
  },
  {
   "cell_type": "code",
   "execution_count": 118,
   "id": "d1fe4095-ce62-4d18-bf71-01dbf4991d0a",
   "metadata": {},
   "outputs": [
    {
     "data": {
      "text/plain": [
       "3.12"
      ]
     },
     "execution_count": 118,
     "metadata": {},
     "output_type": "execute_result"
    }
   ],
   "source": [
    "round(np.mean(np.array(numeros)),2)"
   ]
  },
  {
   "cell_type": "code",
   "execution_count": 121,
   "id": "2684106b-1e05-4b44-9314-bce705c758aa",
   "metadata": {},
   "outputs": [
    {
     "data": {
      "text/plain": [
       "3.12"
      ]
     },
     "execution_count": 121,
     "metadata": {},
     "output_type": "execute_result"
    }
   ],
   "source": [
    "np.array(numeros).mean().round(2)"
   ]
  }
 ],
 "metadata": {
  "kernelspec": {
   "display_name": "Python 3 (ipykernel)",
   "language": "python",
   "name": "python3"
  },
  "language_info": {
   "codemirror_mode": {
    "name": "ipython",
    "version": 3
   },
   "file_extension": ".py",
   "mimetype": "text/x-python",
   "name": "python",
   "nbconvert_exporter": "python",
   "pygments_lexer": "ipython3",
   "version": "3.9.12"
  }
 },
 "nbformat": 4,
 "nbformat_minor": 5
}
