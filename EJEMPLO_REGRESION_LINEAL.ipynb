{
 "cells": [
  {
   "cell_type": "markdown",
   "id": "b12fc014",
   "metadata": {},
   "source": [
    "# Estadistica Aplicada\n",
    "\n",
    "## Alan Fernando Del Real Almguer\n",
    "\n",
    "**5ta Sesion b 08 de Febrero 2023**"
   ]
  },
  {
   "cell_type": "code",
   "execution_count": 1,
   "id": "93b3e09e",
   "metadata": {},
   "outputs": [],
   "source": [
    "import numpy as np\n",
    "import pandas as pd\n",
    "import matplotlib.pyplot as plt\n",
    "import statsmodels.formula.api as smf\n",
    "%matplotlib inline"
   ]
  },
  {
   "cell_type": "code",
   "execution_count": 2,
   "id": "86f578eb",
   "metadata": {},
   "outputs": [],
   "source": [
    "#Leemos el archivo de Excel de Modelo Líneal\n",
    "datos = pd.read_excel(\"modelolineal.xlsx\")"
   ]
  },
  {
   "cell_type": "code",
   "execution_count": null,
   "id": "00daa316",
   "metadata": {},
   "outputs": [],
   "source": [
    "#Nos dice el número de filas y columnas\n",
    "datos.shape"
   ]
  },
  {
   "cell_type": "code",
   "execution_count": 3,
   "id": "233dcc63",
   "metadata": {},
   "outputs": [
    {
     "data": {
      "image/png": "[encoded data removed]",
      "text/plain": [
       "<Figure size 432x288 with 1 Axes>"
      ]
     },
     "metadata": {
      "needs_background": "light"
     },
     "output_type": "display_data"
    }
   ],
   "source": [
    "datos.plot.scatter( \"X\", \"Y\")\n",
    "plt.title(\"Gráfico de Dispersión\")\n",
    "plt.xlim(0,30)\n",
    "plt.ylabel(\"Valores de Y\")\n",
    "plt.xlabel(\"Valores de X\")\n",
    "plt.show()"
   ]
  },
  {
   "cell_type": "code",
   "execution_count": 19,
   "id": "ff417885",
   "metadata": {},
   "outputs": [
    {
     "name": "stdout",
     "output_type": "stream",
     "text": [
      "                            OLS Regression Results                            \n",
      "==============================================================================\n",
      "Dep. Variable:                      Y   R-squared:                       0.732\n",
      "Model:                            OLS   Adj. R-squared:                  0.722\n",
      "Method:                 Least Squares   F-statistic:                     76.40\n",
      "Date:                Thu, 09 Feb 2023   Prob (F-statistic):           1.72e-09\n",
      "Time:                        16:14:46   Log-Likelihood:                -74.480\n",
      "No. Observations:                  30   AIC:                             153.0\n",
      "Df Residuals:                      28   BIC:                             155.8\n",
      "Df Model:                           1                                         \n",
      "Covariance Type:            nonrobust                                         \n",
      "==============================================================================\n",
      "                 coef    std err          t      P>|t|      [0.025      0.975]\n",
      "------------------------------------------------------------------------------\n",
      "Intercept      8.9619      1.276      7.022      0.000       6.347      11.576\n",
      "X              0.5814      0.067      8.740      0.000       0.445       0.718\n",
      "==============================================================================\n",
      "Omnibus:                        0.249   Durbin-Watson:                   1.658\n",
      "Prob(Omnibus):                  0.883   Jarque-Bera (JB):                0.440\n",
      "Skew:                           0.121   Prob(JB):                        0.803\n",
      "Kurtosis:                       2.459   Cond. No.                         44.8\n",
      "==============================================================================\n",
      "\n",
      "Notes:\n",
      "[1] Standard Errors assume that the covariance matrix of the errors is correctly specified.\n"
     ]
    }
   ],
   "source": [
    "reg=smf.ols(formula=\"Y~X\",data=datos)\n",
    "results=reg.fit()\n",
    "print(results.summary())"
   ]
  },
  {
   "cell_type": "markdown",
   "id": "eb416964",
   "metadata": {},
   "source": [
    "### El coeficiente estimado para B0 es de 8.96\n",
    "### El intervalo al 95% para B0 es de 6.347 y 11.576"
   ]
  },
  {
   "cell_type": "markdown",
   "id": "66dbcd61",
   "metadata": {},
   "source": [
    "El valor estimado de $\\beta_0$ es de 8.9619. El intervalo de confianza al 95% es de (6.347 y 11.576). El p_value es de 0.00 por lo tanto se rechaza $H_0$ lo que significa que el verdadero intercepto es distinto de cero.\n",
    "\n",
    "El valor estimado de $\\beta_1$ es de 8.0.5814. El intervalo de confianza al 95% es de (0.445 y 0.718). El p_value es de 0.00 por lo tanto se rechaza $H_0$ lo que significa que X si afecta Y\n",
    "\n",
    "En promedio por cada unidad que aumenta X, Y se incrementa en 0.5814"
   ]
  }
 ],
 "metadata": {
  "kernelspec": {
   "display_name": "Python 3 (ipykernel)",
   "language": "python",
   "name": "python3"
  },
  "language_info": {
   "codemirror_mode": {
    "name": "ipython",
    "version": 3
   },
   "file_extension": ".py",
   "mimetype": "text/x-python",
   "name": "python",
   "nbconvert_exporter": "python",
   "pygments_lexer": "ipython3",
   "version": "3.9.12"
  }
 },
 "nbformat": 4,
 "nbformat_minor": 5
}
