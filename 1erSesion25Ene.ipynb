{
 "cells": [
  {
   "cell_type": "markdown",
   "id": "9946cd37-5382-4ce6-b46d-3bfea348e31a",
   "metadata": {},
   "source": [
    "# Estadistica Aplicada\n",
    "## 1er Sesion\n",
    "**25 de Enero**"
   ]
  },
  {
   "cell_type": "code",
   "execution_count": null,
   "id": "495797cc-2c58-4931-bce5-c44599adcd4f",
   "metadata": {},
   "outputs": [],
   "source": []
  },
  {
   "cell_type": "markdown",
   "id": "260ade47-bdcc-4202-a544-ac88500e43d3",
   "metadata": {},
   "source": [
    "# Estaditica Aplicada\n",
    "## 1er Sesion\n",
    "**25 de Enero**"
   ]
  },
  {
   "cell_type": "markdown",
   "id": "0ffd5bc0-8eab-4bb4-85ba-efec62db6e51",
   "metadata": {},
   "source": [
    "$y_i=a+bx_i+\\epsilon_i$"
   ]
  },
  {
   "cell_type": "markdown",
   "id": "d56ee1e6-8f2a-490e-8b96-770a84807efc",
   "metadata": {},
   "source": [
    "$y_i=a+bx_i+\\varepsilon_i$"
   ]
  },
  {
   "cell_type": "code",
   "execution_count": 5,
   "id": "c3b4ef99-6fc9-4bc1-bf0b-6f648deaf385",
   "metadata": {},
   "outputs": [],
   "source": [
    "variable1=1.34"
   ]
  },
  {
   "cell_type": "code",
   "execution_count": 6,
   "id": "dd6e6615-7385-4b5f-8160-d784f38f7215",
   "metadata": {},
   "outputs": [
    {
     "data": {
      "text/plain": [
       "1.34"
      ]
     },
     "execution_count": 6,
     "metadata": {},
     "output_type": "execute_result"
    }
   ],
   "source": [
    "variable1"
   ]
  },
  {
   "cell_type": "code",
   "execution_count": 7,
   "id": "8df3d9ac-d231-4fbd-8a62-51fe42160ae3",
   "metadata": {},
   "outputs": [],
   "source": [
    "variable2=2"
   ]
  },
  {
   "cell_type": "code",
   "execution_count": 8,
   "id": "6285ff9f-85c5-4475-a268-06e54641ca6b",
   "metadata": {},
   "outputs": [
    {
     "data": {
      "text/plain": [
       "2"
      ]
     },
     "execution_count": 8,
     "metadata": {},
     "output_type": "execute_result"
    }
   ],
   "source": [
    "variable2"
   ]
  },
  {
   "cell_type": "code",
   "execution_count": 9,
   "id": "04c35c34-0754-451e-982a-9ceac3379ae1",
   "metadata": {},
   "outputs": [],
   "source": [
    "variable3=\"A\""
   ]
  },
  {
   "cell_type": "code",
   "execution_count": 10,
   "id": "196724e8-f896-4133-a582-aa6a9455b73c",
   "metadata": {},
   "outputs": [
    {
     "data": {
      "text/plain": [
       "float"
      ]
     },
     "execution_count": 10,
     "metadata": {},
     "output_type": "execute_result"
    }
   ],
   "source": [
    "type(variable1)"
   ]
  },
  {
   "cell_type": "code",
   "execution_count": 11,
   "id": "13eeaa95-b812-4571-aed3-1f43e58eb768",
   "metadata": {},
   "outputs": [
    {
     "data": {
      "text/plain": [
       "int"
      ]
     },
     "execution_count": 11,
     "metadata": {},
     "output_type": "execute_result"
    }
   ],
   "source": [
    "type(variable2)"
   ]
  },
  {
   "cell_type": "code",
   "execution_count": 13,
   "id": "d22b1009-02f6-41d3-8e83-6d8b88f2e983",
   "metadata": {},
   "outputs": [
    {
     "data": {
      "text/plain": [
       "str"
      ]
     },
     "execution_count": 13,
     "metadata": {},
     "output_type": "execute_result"
    }
   ],
   "source": [
    "type(variable3)"
   ]
  },
  {
   "cell_type": "code",
   "execution_count": 14,
   "id": "0749e5d4-dc29-4942-be43-d6009a821edd",
   "metadata": {},
   "outputs": [
    {
     "data": {
      "text/plain": [
       "2.0"
      ]
     },
     "execution_count": 14,
     "metadata": {},
     "output_type": "execute_result"
    }
   ],
   "source": [
    "float(variable2)"
   ]
  },
  {
   "cell_type": "code",
   "execution_count": 15,
   "id": "f6dcbd77-9c82-4140-8c53-09f90b2a0bdc",
   "metadata": {},
   "outputs": [],
   "source": [
    "variable2=float(variable2)"
   ]
  },
  {
   "cell_type": "code",
   "execution_count": 16,
   "id": "e2562050-4583-4861-a3d4-a09b9acb95c0",
   "metadata": {},
   "outputs": [
    {
     "data": {
      "text/plain": [
       "float"
      ]
     },
     "execution_count": 16,
     "metadata": {},
     "output_type": "execute_result"
    }
   ],
   "source": [
    "type(variable2)"
   ]
  },
  {
   "cell_type": "code",
   "execution_count": 17,
   "id": "1c4b4eb5-a590-46c7-8013-46946b731f60",
   "metadata": {},
   "outputs": [
    {
     "name": "stdout",
     "output_type": "stream",
     "text": [
      "1.34 2.0\n"
     ]
    }
   ],
   "source": [
    "print(variable1,variable2)"
   ]
  },
  {
   "cell_type": "code",
   "execution_count": 18,
   "id": "4f0e7fd6-12a7-47a1-8e70-d8b502f9a9a6",
   "metadata": {},
   "outputs": [
    {
     "data": {
      "text/plain": [
       "(1.34, 2.0)"
      ]
     },
     "execution_count": 18,
     "metadata": {},
     "output_type": "execute_result"
    }
   ],
   "source": [
    "variable1,variable2"
   ]
  },
  {
   "cell_type": "code",
   "execution_count": 19,
   "id": "a1f1b0ef-c557-4d8a-96e7-647d08b6c09d",
   "metadata": {},
   "outputs": [
    {
     "name": "stdout",
     "output_type": "stream",
     "text": [
      "Este es un dos decimal 2.0\n"
     ]
    }
   ],
   "source": [
    "print(\"Este es un dos decimal\",variable2)"
   ]
  },
  {
   "cell_type": "code",
   "execution_count": 20,
   "id": "b5378eec-6f7d-4289-a5ff-5d690175e911",
   "metadata": {},
   "outputs": [
    {
     "name": "stdout",
     "output_type": "stream",
     "text": [
      "Este es un dos decimal2.0\n"
     ]
    }
   ],
   "source": [
    "print(f\"Este es un dos decimal{variable2}\")"
   ]
  },
  {
   "cell_type": "code",
   "execution_count": 21,
   "id": "94fa26cc-b771-45e1-b1c9-749b5a371525",
   "metadata": {},
   "outputs": [
    {
     "data": {
      "text/plain": [
       "True"
      ]
     },
     "execution_count": 21,
     "metadata": {},
     "output_type": "execute_result"
    }
   ],
   "source": [
    "7>5"
   ]
  },
  {
   "cell_type": "code",
   "execution_count": 22,
   "id": "9400db21-c202-4f60-8a6d-94fdb56ad6b3",
   "metadata": {},
   "outputs": [
    {
     "data": {
      "text/plain": [
       "False"
      ]
     },
     "execution_count": 22,
     "metadata": {},
     "output_type": "execute_result"
    }
   ],
   "source": [
    "7>10"
   ]
  },
  {
   "cell_type": "code",
   "execution_count": 39,
   "id": "9b37d383-9514-4057-b04b-5d79c7622086",
   "metadata": {},
   "outputs": [
    {
     "data": {
      "text/plain": [
       "False"
      ]
     },
     "execution_count": 39,
     "metadata": {},
     "output_type": "execute_result"
    }
   ],
   "source": [
    "7>5 & 7>10"
   ]
  },
  {
   "cell_type": "code",
   "execution_count": 40,
   "id": "19b4aeef-9a10-4ddc-8b8f-a0f5de9b8cfc",
   "metadata": {},
   "outputs": [
    {
     "data": {
      "text/plain": [
       "7"
      ]
     },
     "execution_count": 40,
     "metadata": {},
     "output_type": "execute_result"
    }
   ],
   "source": [
    "10-3"
   ]
  },
  {
   "cell_type": "code",
   "execution_count": 41,
   "id": "e3ed4a61-de2f-48e3-8ff8-b18a52aa7a51",
   "metadata": {},
   "outputs": [
    {
     "data": {
      "text/plain": [
       "15"
      ]
     },
     "execution_count": 41,
     "metadata": {},
     "output_type": "execute_result"
    }
   ],
   "source": [
    "5*3"
   ]
  },
  {
   "cell_type": "code",
   "execution_count": 42,
   "id": "8cba32d2-6068-4f07-984b-3980b05cccd0",
   "metadata": {},
   "outputs": [
    {
     "data": {
      "text/plain": [
       "9"
      ]
     },
     "execution_count": 42,
     "metadata": {},
     "output_type": "execute_result"
    }
   ],
   "source": [
    "3**2"
   ]
  },
  {
   "cell_type": "code",
   "execution_count": 43,
   "id": "cd52de1b-4261-4e5d-a55d-8700681a14e8",
   "metadata": {},
   "outputs": [
    {
     "data": {
      "text/plain": [
       "9"
      ]
     },
     "execution_count": 43,
     "metadata": {},
     "output_type": "execute_result"
    }
   ],
   "source": [
    "pow(3,2)"
   ]
  },
  {
   "cell_type": "code",
   "execution_count": 44,
   "id": "f57613d0-4917-4b34-8485-cfc53878336f",
   "metadata": {},
   "outputs": [],
   "source": [
    "alumno1=[\"Juan\",\"Perez\",23]"
   ]
  },
  {
   "cell_type": "code",
   "execution_count": 45,
   "id": "b7d8cbcb-39d9-4aa4-a54b-61f36578ba9d",
   "metadata": {},
   "outputs": [],
   "source": [
    "estadistica_g4 = ['Juan', 'Raúl', 'Jimena', 'Alejandra']"
   ]
  },
  {
   "cell_type": "code",
   "execution_count": 50,
   "id": "72538812-7522-4282-8dfe-0c156d057d51",
   "metadata": {},
   "outputs": [
    {
     "data": {
      "text/plain": [
       "['Juan', 'Raúl', 'Jimena', 'Alejandra']"
      ]
     },
     "execution_count": 50,
     "metadata": {},
     "output_type": "execute_result"
    }
   ],
   "source": [
    "estadistica_g4 "
   ]
  },
  {
   "cell_type": "code",
   "execution_count": 51,
   "id": "939b7e4c-dd44-4990-89a3-622c261b360e",
   "metadata": {},
   "outputs": [
    {
     "data": {
      "text/plain": [
       "'Juan'"
      ]
     },
     "execution_count": 51,
     "metadata": {},
     "output_type": "execute_result"
    }
   ],
   "source": [
    "estadistica_g4[0]"
   ]
  },
  {
   "cell_type": "code",
   "execution_count": 53,
   "id": "fe57f09e-af6b-4282-930a-cab8241ca23b",
   "metadata": {},
   "outputs": [
    {
     "data": {
      "text/plain": [
       "('Juan', 'Jimena')"
      ]
     },
     "execution_count": 53,
     "metadata": {},
     "output_type": "execute_result"
    }
   ],
   "source": [
    "estadistica_g4[0],estadistica_g4[2]"
   ]
  },
  {
   "cell_type": "code",
   "execution_count": 54,
   "id": "9df9fb91-4191-4d47-b315-8c7c96aaa26a",
   "metadata": {},
   "outputs": [],
   "source": [
    "estadistica_g4.append(\"Jaime\")"
   ]
  },
  {
   "cell_type": "code",
   "execution_count": 55,
   "id": "8ccb0247-7ece-4d10-b441-06fb853432f8",
   "metadata": {},
   "outputs": [
    {
     "data": {
      "text/plain": [
       "['Juan', 'Raúl', 'Jimena', 'Alejandra', 'Jaime']"
      ]
     },
     "execution_count": 55,
     "metadata": {},
     "output_type": "execute_result"
    }
   ],
   "source": [
    "estadistica_g4"
   ]
  },
  {
   "cell_type": "code",
   "execution_count": 56,
   "id": "f57d3f67-9bee-4d7d-b4eb-aa1873224abe",
   "metadata": {},
   "outputs": [],
   "source": [
    "estadistica_g4.remove(\"Jimena\")"
   ]
  },
  {
   "cell_type": "code",
   "execution_count": 57,
   "id": "debbe972-f958-4274-b8eb-79c1c81c3bf2",
   "metadata": {},
   "outputs": [
    {
     "data": {
      "text/plain": [
       "['Juan', 'Raúl', 'Alejandra', 'Jaime']"
      ]
     },
     "execution_count": 57,
     "metadata": {},
     "output_type": "execute_result"
    }
   ],
   "source": [
    "estadistica_g4"
   ]
  }
 ],
 "metadata": {
  "kernelspec": {
   "display_name": "Python 3 (ipykernel)",
   "language": "python",
   "name": "python3"
  },
  "language_info": {
   "codemirror_mode": {
    "name": "ipython",
    "version": 3
   },
   "file_extension": ".py",
   "mimetype": "text/x-python",
   "name": "python",
   "nbconvert_exporter": "python",
   "pygments_lexer": "ipython3",
   "version": "3.9.12"
  }
 },
 "nbformat": 4,
 "nbformat_minor": 5
}
