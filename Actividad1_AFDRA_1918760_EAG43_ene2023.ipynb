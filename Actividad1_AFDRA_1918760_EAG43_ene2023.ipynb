{
 "cells": [
  {
   "cell_type": "markdown",
   "id": "05c4e245-66a6-4029-8c19-6d0133e86387",
   "metadata": {},
   "source": [
    "Matricula: 1918760 Nombre: Alan Fernando Del Real Almaguer Materia: Estadistica Aplicada Grupo: 043"
   ]
  },
  {
   "cell_type": "markdown",
   "id": "d6351c0e-3088-421e-8e71-12fcb164193e",
   "metadata": {},
   "source": [
    "1. Crea una lista con los nombres de pila de los integrantes de tu familia, la lista se llamara mi_familia"
   ]
  },
  {
   "cell_type": "code",
   "execution_count": 31,
   "id": "82bfb244-f71d-448c-92d6-1f7d815498b0",
   "metadata": {},
   "outputs": [],
   "source": [
    "#respuesta\n",
    "mi_familia1 = [\"Erendira\", \"Alejandro\", \"Ivan\", \"Daniela\"]\n",
    "mi_familia2 = [\"Erika\", \"Carolina\", \"Fernanda\", \"Eduardo\"]\n"
   ]
  },
  {
   "cell_type": "markdown",
   "id": "7b2688a8-e77f-478b-a2af-b2ff34dd4555",
   "metadata": {},
   "source": [
    "2. Crea una variable float que se llame mi_edad con tu edad\n",
    "Nota: las variables float contienen decimales"
   ]
  },
  {
   "cell_type": "code",
   "execution_count": 15,
   "id": "3645980d-8df2-44e3-a2de-f842c45199e5",
   "metadata": {},
   "outputs": [],
   "source": [
    "#respuesta\n",
    "mi_edad1 = 20.0\n",
    "mi_edad2 = 21.0"
   ]
  },
  {
   "cell_type": "code",
   "execution_count": 16,
   "id": "403d715b-821f-4712-a052-4c5cbf579182",
   "metadata": {},
   "outputs": [
    {
     "data": {
      "text/plain": [
       "float"
      ]
     },
     "execution_count": 16,
     "metadata": {},
     "output_type": "execute_result"
    }
   ],
   "source": [
    "type(mi_edad1)"
   ]
  },
  {
   "cell_type": "code",
   "execution_count": 17,
   "id": "54a49cf6-dfed-43a1-a93c-91ca35e82dff",
   "metadata": {},
   "outputs": [
    {
     "data": {
      "text/plain": [
       "float"
      ]
     },
     "execution_count": 17,
     "metadata": {},
     "output_type": "execute_result"
    }
   ],
   "source": [
    "type(mi_edad2)"
   ]
  },
  {
   "cell_type": "code",
   "execution_count": 19,
   "id": "b71947e4-44a6-481c-aec1-7f0e8f041eaa",
   "metadata": {
    "tags": []
   },
   "outputs": [],
   "source": [
    "mi_edad1=int(mi_edad1)\n",
    "mi_edad2=int(mi_edad2)"
   ]
  },
  {
   "cell_type": "markdown",
   "id": "da475111-5747-4443-8d4a-81907fabc236",
   "metadata": {},
   "source": [
    "3. Convierte la variable mi_edad a entero (int) y guardalo en mi_edad"
   ]
  },
  {
   "cell_type": "code",
   "execution_count": 20,
   "id": "c856025b-e3ec-475b-ab9b-e032c5b8deda",
   "metadata": {
    "tags": []
   },
   "outputs": [
    {
     "data": {
      "text/plain": [
       "int"
      ]
     },
     "execution_count": 20,
     "metadata": {},
     "output_type": "execute_result"
    }
   ],
   "source": [
    "type(mi_edad1)"
   ]
  },
  {
   "cell_type": "code",
   "execution_count": 21,
   "id": "9611cd9b-536f-4dd3-b8ed-836d395e1791",
   "metadata": {},
   "outputs": [
    {
     "data": {
      "text/plain": [
       "int"
      ]
     },
     "execution_count": 21,
     "metadata": {},
     "output_type": "execute_result"
    }
   ],
   "source": [
    "type(mi_edad2)"
   ]
  },
  {
   "cell_type": "markdown",
   "id": "eff24f46-5c9e-4e30-8f0c-d952b67dd2b2",
   "metadata": {},
   "source": [
    "4. Con el comando len(objeto) muestra cuántos integrantes tiene tu familia"
   ]
  },
  {
   "cell_type": "code",
   "execution_count": 23,
   "id": "770f5279-7373-4519-8549-5e027f321524",
   "metadata": {},
   "outputs": [
    {
     "data": {
      "text/plain": [
       "4"
      ]
     },
     "execution_count": 23,
     "metadata": {},
     "output_type": "execute_result"
    }
   ],
   "source": [
    "len(mi_familia1)"
   ]
  },
  {
   "cell_type": "code",
   "execution_count": 32,
   "id": "3f76a65e-2d52-4b7e-a201-459a27e4a939",
   "metadata": {},
   "outputs": [
    {
     "data": {
      "text/plain": [
       "4"
      ]
     },
     "execution_count": 32,
     "metadata": {},
     "output_type": "execute_result"
    }
   ],
   "source": [
    "len(mi_familia2)"
   ]
  },
  {
   "cell_type": "markdown",
   "id": "e93804f7-db96-4355-8a8f-d44bceb097f4",
   "metadata": {},
   "source": [
    "5. Utiliza print para que se imprima en pantalla tu edad"
   ]
  },
  {
   "cell_type": "code",
   "execution_count": 35,
   "id": "f11311ac-e578-4c9f-b522-74759a881092",
   "metadata": {},
   "outputs": [
    {
     "name": "stdout",
     "output_type": "stream",
     "text": [
      "yo tengo 20 años\n",
      "yo tengo 21 años\n"
     ]
    }
   ],
   "source": [
    "print('yo tengo', mi_edad1, 'años')\n",
    "print('yo tengo', mi_edad2, 'años')"
   ]
  },
  {
   "cell_type": "markdown",
   "id": "639deb8e-89d8-45aa-8559-60342521da13",
   "metadata": {},
   "source": [
    "6. Utiliza print para mostrar cuantos integrantes tiene tu familia\n",
    "Ahora usa print(f'texto {objeto}'). Mira el ejemplo"
   ]
  },
  {
   "cell_type": "code",
   "execution_count": 42,
   "id": "aae241da-4ad7-45d4-a089-4eac969db5dc",
   "metadata": {},
   "outputs": [
    {
     "name": "stdout",
     "output_type": "stream",
     "text": [
      "yo tengo 4 familiares\n",
      "yo tengo 4 familiares\n"
     ]
    }
   ],
   "source": [
    "print(f'yo tengo {len(mi_familia1)} familiares')\n",
    "print(f'yo tengo {len(mi_familia2)} familiares')"
   ]
  },
  {
   "cell_type": "markdown",
   "id": "328425c5-4356-4dc9-8ce8-ad79ca41fa78",
   "metadata": {},
   "source": [
    "7. Completa el siguiente codigo para que si tienes 20 o más años de edad se imprima \"tengo mas de 20 años\" y sino, se imprima \"tengo menos de 20 años\""
   ]
  },
  {
   "cell_type": "code",
   "execution_count": 58,
   "id": "b4827e5a-46f4-4ba3-914c-cfa271ba4512",
   "metadata": {},
   "outputs": [
    {
     "name": "stdout",
     "output_type": "stream",
     "text": [
      "tengo menos de 20 años\n",
      "tengo mas de 20 años\n"
     ]
    }
   ],
   "source": [
    "if mi_edad1 >20 :\n",
    "    print(\"tengo mas de 20 años\")\n",
    "else:\n",
    "    print(\"tengo menos de 20 años\")\n",
    "    \n",
    "if mi_edad2 >20 :\n",
    "    print(\"tengo mas de 20 años\")\n",
    "else:\n",
    "    print(\"tengo menos de 20 años\")"
   ]
  }
 ],
 "metadata": {
  "kernelspec": {
   "display_name": "Python 3 (ipykernel)",
   "language": "python",
   "name": "python3"
  },
  "language_info": {
   "codemirror_mode": {
    "name": "ipython",
    "version": 3
   },
   "file_extension": ".py",
   "mimetype": "text/x-python",
   "name": "python",
   "nbconvert_exporter": "python",
   "pygments_lexer": "ipython3",
   "version": "3.9.12"
  }
 },
 "nbformat": 4,
 "nbformat_minor": 5
}
