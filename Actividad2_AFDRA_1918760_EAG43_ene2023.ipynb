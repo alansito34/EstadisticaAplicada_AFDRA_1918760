{
 "cells": [
  {
   "cell_type": "markdown",
   "id": "6f16f2dd-a78e-4f1e-8ec4-f871de6ce11f",
   "metadata": {},
   "source": [
    "# Actividad 2\n",
    "## Nombre: Alan Fernando Del Real Almaguer\n",
    "## Grupo: 043"
   ]
  },
  {
   "cell_type": "markdown",
   "id": "70cb01b5-b8a2-42e1-95c7-f194d7167069",
   "metadata": {},
   "source": [
    "1. Contamos con la edad de las personas de San Andres, un pueblito de la sierra de Nuevo León, que cuenta con 50 habitantes en total. Genera una lista con la edad de los 50 habitantes de San Andres. la lista debe llamarse \"edades_pueblito\""
   ]
  },
  {
   "cell_type": "code",
   "execution_count": 75,
   "id": "f4a82e7d-4c6d-4473-a5ee-2f599334c99a",
   "metadata": {},
   "outputs": [],
   "source": [
    "edades_pueblito = [23, 80, 99, 66, 87, 31, 61, 21, 54, 76, 78, 17, 14, 26, 100, 34, 1, 70, 5,\n",
    "31, 51, 39, 47, 81, 69, 45, 40, 8, 44, 60, 77, 93, 22, 91, 4, 37, 87, 34, 98,\n",
    "29, 7, 63, 11, 91, 86, 20, 33, 90, 72, 61]"
   ]
  },
  {
   "cell_type": "code",
   "execution_count": 77,
   "id": "115678bd-b0a3-4058-8643-1616d99b0a25",
   "metadata": {},
   "outputs": [
    {
     "data": {
      "text/plain": [
       "list"
      ]
     },
     "execution_count": 77,
     "metadata": {},
     "output_type": "execute_result"
    }
   ],
   "source": [
    "type(edades_pueblito)"
   ]
  },
  {
   "cell_type": "markdown",
   "id": "2b56240b-95af-4b9e-947e-ca10fccde1a1",
   "metadata": {},
   "source": [
    "2. Importa la librería de numpy con su apodo, y luego convierte la lista edades_pueblito en un arreglo"
   ]
  },
  {
   "cell_type": "code",
   "execution_count": 79,
   "id": "629528a6-bf6d-494e-8720-43a06d110d5e",
   "metadata": {},
   "outputs": [],
   "source": [
    "import numpy as np"
   ]
  },
  {
   "cell_type": "code",
   "execution_count": 81,
   "id": "fd03e2cf-34e0-4d55-aa74-8db6a1ef6633",
   "metadata": {},
   "outputs": [
    {
     "data": {
      "text/plain": [
       "array([ 23,  80,  99,  66,  87,  31,  61,  21,  54,  76,  78,  17,  14,\n",
       "        26, 100,  34,   1,  70,   5,  31,  51,  39,  47,  81,  69,  45,\n",
       "        40,   8,  44,  60,  77,  93,  22,  91,   4,  37,  87,  34,  98,\n",
       "        29,   7,  63,  11,  91,  86,  20,  33,  90,  72,  61])"
      ]
     },
     "execution_count": 81,
     "metadata": {},
     "output_type": "execute_result"
    }
   ],
   "source": [
    "np.array(edades_pueblito)"
   ]
  },
  {
   "cell_type": "markdown",
   "id": "63db9e56-a5c7-4102-b2fb-7532c15ba81c",
   "metadata": {},
   "source": [
    "3. Calcula la media, la varianza, y la desviación estándar de la edad de los habitantes de San Andres, muestra un texto (print) con los cálculos realizados"
   ]
  },
  {
   "cell_type": "code",
   "execution_count": 83,
   "id": "c5b134c3-68e6-4d96-b2a5-78f5370a01b4",
   "metadata": {},
   "outputs": [
    {
     "name": "stdout",
     "output_type": "stream",
     "text": [
      "51.28 887.2416000000001 29.78660101455015\n"
     ]
    }
   ],
   "source": [
    "mean=np.mean(edades_pueblito)\n",
    "var=np.var(edades_pueblito)\n",
    "std=np.std(edades_pueblito)\n",
    "print(mean,var,std)"
   ]
  },
  {
   "cell_type": "markdown",
   "id": "1a8e6c76-bf3a-4ef9-a68a-9121973a1a20",
   "metadata": {},
   "source": [
    "4. Sin utilizar la formula de la media de numpy, es decir, sin utilizar np.mean(), como podriamos calcular la media utlizando solo las funciones que hemos visto en clase."
   ]
  },
  {
   "cell_type": "code",
   "execution_count": 85,
   "id": "03551d54-79ee-4988-ad87-37e41822fe18",
   "metadata": {},
   "outputs": [
    {
     "name": "stdout",
     "output_type": "stream",
     "text": [
      "51.28\n"
     ]
    }
   ],
   "source": [
    "suma=np.sum(edades_pueblito)\n",
    "prom=suma/50\n",
    "print(prom)"
   ]
  },
  {
   "cell_type": "markdown",
   "id": "deec70e8-4d33-42c5-af41-49d1866a1e14",
   "metadata": {},
   "source": [
    "5. Selecciona una muestra de las edades de las primeras 20 personas del pueblo de San Andres, guardalo en un objeto llamado muestra_pueblito"
   ]
  },
  {
   "cell_type": "code",
   "execution_count": 91,
   "id": "943c8d41-6cea-44ad-a5fa-754cf0a4513c",
   "metadata": {},
   "outputs": [],
   "source": [
    "muestra_pueblito=edades_pueblito[0:20]"
   ]
  },
  {
   "cell_type": "markdown",
   "id": "26cc8cae-d126-4511-80e5-ca3912662b0d",
   "metadata": {},
   "source": [
    "6. Calcula la media, la varianza y la desviación estándar de la muestra de las edades del pueblo de San Andres, muestra un texto (print) con los calculos realizados"
   ]
  },
  {
   "cell_type": "code",
   "execution_count": 92,
   "id": "98a78c94-3791-4eeb-8363-5584e2fa3f19",
   "metadata": {},
   "outputs": [
    {
     "name": "stdout",
     "output_type": "stream",
     "text": [
      "51.28 887.2416000000001 29.78660101455015\n"
     ]
    }
   ],
   "source": [
    "mean_muestra=np.mean(muestra_pueblito)\n",
    "var_muestra=np.var(muestra_pueblito,ddof=1)\n",
    "std_muestra=np.std(muestra_pueblito,ddof=1)\n",
    "print(mean,var,std)"
   ]
  },
  {
   "cell_type": "markdown",
   "id": "92308926-c421-4a26-a638-064ad49acef8",
   "metadata": {},
   "source": [
    "7. Sabemos que en San Andres se dedican a la producción de huevo de gallina. Existen 20 productores de huevo en San Andres, donde en promedio cada uno produce 5.6785 kg de huevo por día. ¿cuál es la producción de huevo en kg por mes en San Andres?"
   ]
  },
  {
   "cell_type": "code",
   "execution_count": 98,
   "id": "3af5dae9-7a28-4065-a57c-e1cda9a58549",
   "metadata": {},
   "outputs": [
    {
     "data": {
      "text/plain": [
       "3407.1"
      ]
     },
     "execution_count": 98,
     "metadata": {},
     "output_type": "execute_result"
    }
   ],
   "source": [
    "produccion=np.array([20,5.6785,30])\n",
    "np.prod(produccion)"
   ]
  },
  {
   "cell_type": "markdown",
   "id": "c5ebe275-9bed-40f6-92cf-6c8e97c81057",
   "metadata": {},
   "source": [
    "8 .Resuelve el ejercicio 7 sin usar np.prod(). Resuelva utilizando tres objetos: \"productores\" que contenga el número de productores, \"huevos_promedio_x_dia\" que contenga la producción promedio de kg de huevo al día por productor y \"días del mes\" que contega el número de días en un mes"
   ]
  },
  {
   "cell_type": "code",
   "execution_count": 102,
   "id": "23a9a434-8b90-4bd5-b077-2a73c141b36f",
   "metadata": {},
   "outputs": [
    {
     "name": "stdout",
     "output_type": "stream",
     "text": [
      "3407.1\n"
     ]
    }
   ],
   "source": [
    "productores=20\n",
    "huevos_promedio_x_dia=5.6785\n",
    "dias_mes=30\n",
    "produccion=productores*huevos_promedio_x_dia*dias_mes\n",
    "print(produccion)"
   ]
  }
 ],
 "metadata": {
  "kernelspec": {
   "display_name": "Python 3 (ipykernel)",
   "language": "python",
   "name": "python3"
  },
  "language_info": {
   "codemirror_mode": {
    "name": "ipython",
    "version": 3
   },
   "file_extension": ".py",
   "mimetype": "text/x-python",
   "name": "python",
   "nbconvert_exporter": "python",
   "pygments_lexer": "ipython3",
   "version": "3.9.12"
  }
 },
 "nbformat": 4,
 "nbformat_minor": 5
}
