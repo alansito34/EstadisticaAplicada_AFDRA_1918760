{
 "cells": [
  {
   "cell_type": "markdown",
   "id": "2111e8c2",
   "metadata": {},
   "source": [
    "## Variables de tiempo/fecha en phyton\n",
    "\n",
    "## Estadistica Aplicada\n",
    "\n",
    "### Alan Fernando Del Real Almaguer 1918760\n",
    "\n",
    "**15va Sesion, 30 de Marzo**"
   ]
  },
  {
   "cell_type": "code",
   "execution_count": null,
   "id": "c473a9aa",
   "metadata": {},
   "outputs": [],
   "source": [
    "from datetime import datetime"
   ]
  },
  {
   "cell_type": "code",
   "execution_count": 16,
   "id": "41c98256",
   "metadata": {},
   "outputs": [],
   "source": [
    "mi_year=2023\n",
    "mi_mes=3 \n",
    "mi_dia=30\n",
    "mi_hora=15\n",
    "mi_minuto=25\n",
    "mi_segundo=30"
   ]
  },
  {
   "cell_type": "code",
   "execution_count": 17,
   "id": "f9028ba2",
   "metadata": {},
   "outputs": [
    {
     "data": {
      "text/plain": [
       "datetime.datetime(2023, 3, 30, 0, 0)"
      ]
     },
     "execution_count": 17,
     "metadata": {},
     "output_type": "execute_result"
    }
   ],
   "source": [
    "mi_fecha=datetime(mi_year,mi_mes,mi_dia)\n",
    "mi_fecha"
   ]
  },
  {
   "cell_type": "code",
   "execution_count": 18,
   "id": "7c8502cc",
   "metadata": {},
   "outputs": [
    {
     "data": {
      "text/plain": [
       "datetime.datetime(2023, 3, 30, 15, 25, 30)"
      ]
     },
     "execution_count": 18,
     "metadata": {},
     "output_type": "execute_result"
    }
   ],
   "source": [
    "mi_fecha_hora=datetime(mi_year,mi_mes,mi_dia,mi_hora,mi_minuto,mi_segundo)\n",
    "mi_fecha_hora"
   ]
  },
  {
   "cell_type": "markdown",
   "id": "644316d4",
   "metadata": {},
   "source": [
    "Una vez que una variable es de tipo fecha se puede acceder a sus componenetes"
   ]
  },
  {
   "cell_type": "code",
   "execution_count": 21,
   "id": "5c99b0c4",
   "metadata": {},
   "outputs": [
    {
     "data": {
      "text/plain": [
       "2023"
      ]
     },
     "execution_count": 21,
     "metadata": {},
     "output_type": "execute_result"
    }
   ],
   "source": [
    "##acceder al año de mi_fecha_hora\n",
    "mi_fecha_hora.year"
   ]
  },
  {
   "cell_type": "code",
   "execution_count": 22,
   "id": "5dd4bd11",
   "metadata": {},
   "outputs": [
    {
     "data": {
      "text/plain": [
       "3"
      ]
     },
     "execution_count": 22,
     "metadata": {},
     "output_type": "execute_result"
    }
   ],
   "source": [
    "#acceder al mes de mi_fecha_hora\n",
    "mi_fecha_hora.month"
   ]
  },
  {
   "cell_type": "code",
   "execution_count": 23,
   "id": "26a6b0e6",
   "metadata": {},
   "outputs": [
    {
     "data": {
      "text/plain": [
       "25"
      ]
     },
     "execution_count": 23,
     "metadata": {},
     "output_type": "execute_result"
    }
   ],
   "source": [
    "#acceder a la hora de mi_fecha_hora\n",
    "mi_fecha_hora.minute"
   ]
  },
  {
   "cell_type": "markdown",
   "id": "73665d6a",
   "metadata": {},
   "source": [
    "## fechas en numpy"
   ]
  },
  {
   "cell_type": "code",
   "execution_count": 24,
   "id": "71cfebb8",
   "metadata": {},
   "outputs": [],
   "source": [
    "import numpy as np"
   ]
  },
  {
   "cell_type": "code",
   "execution_count": 26,
   "id": "27f6dad6",
   "metadata": {},
   "outputs": [
    {
     "data": {
      "text/plain": [
       "array(['2002-09-16', '2002-08-31'], dtype='datetime64[D]')"
      ]
     },
     "execution_count": 26,
     "metadata": {},
     "output_type": "execute_result"
    }
   ],
   "source": [
    "np.array([\"2002-09-16\",\"2002-08-31\"], dtype=\"datetime64\")"
   ]
  },
  {
   "cell_type": "code",
   "execution_count": 27,
   "id": "188d2e1b",
   "metadata": {},
   "outputs": [
    {
     "data": {
      "text/plain": [
       "array(['2002-09-16T00', '2002-08-31T00'], dtype='datetime64[h]')"
      ]
     },
     "execution_count": 27,
     "metadata": {},
     "output_type": "execute_result"
    }
   ],
   "source": [
    "np.array([\"2002-09-16\",\"2002-08-31\"], dtype=\"datetime64[h]\")"
   ]
  },
  {
   "cell_type": "code",
   "execution_count": 29,
   "id": "afc2de12",
   "metadata": {},
   "outputs": [
    {
     "data": {
      "text/plain": [
       "array(['2002', '2002'], dtype='datetime64[Y]')"
      ]
     },
     "execution_count": 29,
     "metadata": {},
     "output_type": "execute_result"
    }
   ],
   "source": [
    "np.array([\"2002-09-16\",\"2002-08-31\"], dtype=\"datetime64[Y]\")"
   ]
  },
  {
   "cell_type": "code",
   "execution_count": 33,
   "id": "44f89259",
   "metadata": {},
   "outputs": [
    {
     "data": {
      "text/plain": [
       "array(['2002-09', '2002-08'], dtype='datetime64[M]')"
      ]
     },
     "execution_count": 33,
     "metadata": {},
     "output_type": "execute_result"
    }
   ],
   "source": [
    "np.array([\"2002-09-16\",\"2002-08-31\"], dtype=\"datetime64[M]\")"
   ]
  },
  {
   "cell_type": "code",
   "execution_count": 35,
   "id": "49a757a2",
   "metadata": {},
   "outputs": [
    {
     "data": {
      "text/plain": [
       "array(['2002', '2003', '2004', '2005', '2006', '2007', '2008', '2009',\n",
       "       '2010', '2011', '2012', '2013', '2014', '2015', '2016', '2017',\n",
       "       '2018', '2019', '2020', '2021', '2022'], dtype='datetime64[Y]')"
      ]
     },
     "execution_count": 35,
     "metadata": {},
     "output_type": "execute_result"
    }
   ],
   "source": [
    "np.arange(\"2002-09-16\",\"2023-03-30\",1,dtype=\"datetime64[Y]\")"
   ]
  },
  {
   "cell_type": "code",
   "execution_count": 38,
   "id": "7525dd11",
   "metadata": {},
   "outputs": [
    {
     "data": {
      "text/plain": [
       "array(['2023-01-23', '2023-01-24', '2023-01-25', '2023-01-26',\n",
       "       '2023-01-27', '2023-01-28', '2023-01-29', '2023-01-30',\n",
       "       '2023-01-31', '2023-02-01', '2023-02-02', '2023-02-03',\n",
       "       '2023-02-04', '2023-02-05', '2023-02-06', '2023-02-07',\n",
       "       '2023-02-08', '2023-02-09', '2023-02-10', '2023-02-11',\n",
       "       '2023-02-12', '2023-02-13', '2023-02-14', '2023-02-15',\n",
       "       '2023-02-16', '2023-02-17', '2023-02-18', '2023-02-19',\n",
       "       '2023-02-20', '2023-02-21', '2023-02-22', '2023-02-23',\n",
       "       '2023-02-24', '2023-02-25', '2023-02-26', '2023-02-27',\n",
       "       '2023-02-28', '2023-03-01', '2023-03-02', '2023-03-03',\n",
       "       '2023-03-04', '2023-03-05', '2023-03-06', '2023-03-07',\n",
       "       '2023-03-08', '2023-03-09', '2023-03-10', '2023-03-11',\n",
       "       '2023-03-12', '2023-03-13', '2023-03-14', '2023-03-15',\n",
       "       '2023-03-16', '2023-03-17', '2023-03-18', '2023-03-19',\n",
       "       '2023-03-20', '2023-03-21', '2023-03-22', '2023-03-23',\n",
       "       '2023-03-24', '2023-03-25', '2023-03-26', '2023-03-27',\n",
       "       '2023-03-28', '2023-03-29'], dtype='datetime64[D]')"
      ]
     },
     "execution_count": 38,
     "metadata": {},
     "output_type": "execute_result"
    }
   ],
   "source": [
    "np.arange(\"2023-01-23\",\"2023-03-30\",1,dtype=\"datetime64[D]\")"
   ]
  },
  {
   "cell_type": "markdown",
   "id": "0a5101e3",
   "metadata": {},
   "source": [
    "## fechas en pandas"
   ]
  },
  {
   "cell_type": "code",
   "execution_count": 52,
   "id": "406cb916",
   "metadata": {},
   "outputs": [],
   "source": [
    "import pandas as pd "
   ]
  },
  {
   "cell_type": "code",
   "execution_count": 53,
   "id": "710fc4e8",
   "metadata": {},
   "outputs": [
    {
     "data": {
      "text/plain": [
       "DatetimeIndex(['2018-07-08', '2018-07-09', '2018-07-10', '2018-07-11',\n",
       "               '2018-07-12', '2018-07-13', '2018-07-14'],\n",
       "              dtype='datetime64[ns]', freq='D')"
      ]
     },
     "execution_count": 53,
     "metadata": {},
     "output_type": "execute_result"
    }
   ],
   "source": [
    "# La semana del 8 de Julio del 2018\n",
    "semana8=pd.date_range(\"7/8/18\",periods=7,freq=\"D\")\n",
    "semana8"
   ]
  },
  {
   "cell_type": "code",
   "execution_count": 55,
   "id": "9a8a2949",
   "metadata": {},
   "outputs": [
    {
     "data": {
      "text/plain": [
       "DatetimeIndex(['2023-04-12', '2023-03-30', '2020-01-01'], dtype='datetime64[ns]', freq=None)"
      ]
     },
     "execution_count": 55,
     "metadata": {},
     "output_type": "execute_result"
    }
   ],
   "source": [
    "## de que forma los podemos pasar fechas a pandas\n",
    "pd.to_datetime(['Apr 12, 2023', '3/30/23','1-Jan-2020'])"
   ]
  },
  {
   "cell_type": "code",
   "execution_count": 50,
   "id": "9dbf65ec",
   "metadata": {},
   "outputs": [
    {
     "data": {
      "text/plain": [
       "array(['2023-01-12', '2022-04-10'], dtype='datetime64[D]')"
      ]
     },
     "execution_count": 50,
     "metadata": {},
     "output_type": "execute_result"
    }
   ],
   "source": [
    "algunas_fechas=np.array([\"2023-01-12\",\"2022-04-10\"],dtype=\"datetime64[D]\")\n",
    "algunas_fechas"
   ]
  },
  {
   "cell_type": "code",
   "execution_count": 57,
   "id": "ec806628",
   "metadata": {},
   "outputs": [],
   "source": [
    "algunas_fechas=pd.to_datetime(algunas_fechas)"
   ]
  }
 ],
 "metadata": {
  "kernelspec": {
   "display_name": "Python 3 (ipykernel)",
   "language": "python",
   "name": "python3"
  },
  "language_info": {
   "codemirror_mode": {
    "name": "ipython",
    "version": 3
   },
   "file_extension": ".py",
   "mimetype": "text/x-python",
   "name": "python",
   "nbconvert_exporter": "python",
   "pygments_lexer": "ipython3",
   "version": "3.9.12"
  }
 },
 "nbformat": 4,
 "nbformat_minor": 5
}
